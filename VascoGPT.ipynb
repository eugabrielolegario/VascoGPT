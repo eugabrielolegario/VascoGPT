{
 "cells": [
  {
   "cell_type": "code",
   "execution_count": 4,
   "metadata": {},
   "outputs": [
    {
     "name": "stdout",
     "output_type": "stream",
     "text": [
      "Running on local URL:  http://127.0.0.1:7863\n",
      "\n",
      "To create a public link, set `share=True` in `launch()`.\n"
     ]
    },
    {
     "data": {
      "text/html": [
       "<div><iframe src=\"http://127.0.0.1:7863/\" width=\"100%\" height=\"500\" allow=\"autoplay; camera; microphone; clipboard-read; clipboard-write;\" frameborder=\"0\" allowfullscreen></iframe></div>"
      ],
      "text/plain": [
       "<IPython.core.display.HTML object>"
      ]
     },
     "metadata": {},
     "output_type": "display_data"
    },
    {
     "data": {
      "text/plain": []
     },
     "execution_count": 4,
     "metadata": {},
     "output_type": "execute_result"
    }
   ],
   "source": [
    "import openai\n",
    "import gradio\n",
    "import os\n",
    "import json  # Import the JSON module\n",
    "from dotenv import load_dotenv\n",
    "\n",
    "load_dotenv()\n",
    "\n",
    "openai.api_key = os.getenv('OPENAI_API_KEY')\n",
    "\n",
    "# Function to read the entire JSON file \"VAS-119.json\"\n",
    "def read_json_file():\n",
    "    with open(\"VAS-119.json\", \"r\", encoding=\"utf-8\") as file:\n",
    "        json_data = json.load(file)  # Load JSON content\n",
    "    return json_data\n",
    "\n",
    "json_data = read_json_file()\n",
    "\n",
    "# Function to extract text from all sections of the JSON\n",
    "def extract_text_from_json(json_data):\n",
    "    text = \"\"\n",
    "    for section, section_data in json_data.items():\n",
    "        if isinstance(section_data, dict):\n",
    "            for subsection, subsection_data in section_data.items():\n",
    "                if isinstance(subsection_data, list):\n",
    "                    text += f\"{section} - {subsection}:\\n\"\n",
    "                    for item in subsection_data:\n",
    "                        text += f\"- {item}\\n\"\n",
    "                else:\n",
    "                    text += f\"{section} - {subsection}:\\n{subsection_data}\\n\"\n",
    "        else:\n",
    "            text += f\"{section}:\\n{section_data}\\n\"\n",
    "    return text\n",
    "\n",
    "# Define the initial message with text extracted from all JSON sections\n",
    "initial_message = extract_text_from_json(json_data)\n",
    "\n",
    "messages = [\n",
    "    {\n",
    "        \"role\": \"user\",\n",
    "        \"content\": initial_message,\n",
    "    }\n",
    "]\n",
    "\n",
    "def CustomChatGPT(user_input):\n",
    "    messages.append({\"role\": \"user\", \"content\": user_input})\n",
    "    response = openai.ChatCompletion.create(model=\"gpt-3.5-turbo\", messages=messages)\n",
    "    ChatGPT_reply = response[\"choices\"][0][\"message\"][\"content\"]\n",
    "    messages.append({\"role\": \"assistant\", \"content\": ChatGPT_reply})\n",
    "    return ChatGPT_reply\n",
    "\n",
    "demo = gradio.Interface(\n",
    "    fn=CustomChatGPT, inputs=\"text\", outputs=\"text\", title=\"VAS-119\"\n",
    ")\n",
    "\n",
    "demo.launch(share=False)\n"
   ]
  }
 ],
 "metadata": {
  "kernelspec": {
   "display_name": "Python 3",
   "language": "python",
   "name": "python3"
  },
  "language_info": {
   "codemirror_mode": {
    "name": "ipython",
    "version": 3
   },
   "file_extension": ".py",
   "mimetype": "text/x-python",
   "name": "python",
   "nbconvert_exporter": "python",
   "pygments_lexer": "ipython3",
   "version": "3.10.8"
  },
  "orig_nbformat": 4
 },
 "nbformat": 4,
 "nbformat_minor": 2
}
